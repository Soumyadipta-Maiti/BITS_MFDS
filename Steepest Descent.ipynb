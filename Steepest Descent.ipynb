{
 "cells": [
  {
   "cell_type": "code",
   "execution_count": 71,
   "id": "fb715c06",
   "metadata": {},
   "outputs": [],
   "source": [
    "from sympy import *\n",
    "from sympy.parsing.sympy_parser import parse_expr\n",
    "from sympy.printing.latex import LatexPrinter\n",
    "from sympy.solvers.solveset import linsolve\n",
    "from sympy.solvers import solve_poly_system\n",
    "from IPython.display import display, Latex\n",
    "import numpy as np"
   ]
  },
  {
   "cell_type": "code",
   "execution_count": 2,
   "id": "3ef23357",
   "metadata": {},
   "outputs": [
    {
     "data": {
      "application/javascript": [
       "IPython.OutputArea.prototype._should_scroll = function(lines) {\n",
       "    return false;\n",
       "}\n"
      ],
      "text/plain": [
       "<IPython.core.display.Javascript object>"
      ]
     },
     "metadata": {},
     "output_type": "display_data"
    }
   ],
   "source": [
    "%%javascript\n",
    "IPython.OutputArea.prototype._should_scroll = function(lines) {\n",
    "    return false;\n",
    "}"
   ]
  },
  {
   "cell_type": "code",
   "execution_count": 151,
   "id": "d4785e06",
   "metadata": {},
   "outputs": [],
   "source": [
    "def steepest_descent(str_expr, str_symbols, x_init, tau = None, n_iter=10, rounding_digit=4):\n",
    "    sym = symbols(str_symbols)\n",
    "    f = Function('f')(*sym)\n",
    "    \n",
    "    expr = parse_expr(str_expr)\n",
    "    print('The function is')\n",
    "    display(Eq(f,expr))\n",
    "    grad = MatrixSymbol('\\u2207f',len(sym),1)\n",
    "    print('\\nStep-1: Finding gradient and hessian Matrix of the function')\n",
    "    display(Eq(grad, Matrix([Derivative(f,x) for x in sym])))\n",
    "    display(Eq(grad, Matrix([Derivative(expr,x) for x in sym])))\n",
    "    grad_m = Matrix([diff(expr,x) for x in sym])\n",
    "    display(Eq(grad, grad_m))\n",
    "    \n",
    "    print('\\nCreating the Hessian Matrix')\n",
    "    hess = MatrixSymbol('Hf',len(sym),len(sym))\n",
    "    hess_m_f = zeros(len(sym))\n",
    "    hess_m_expr = zeros(len(sym))\n",
    "    hess_m = zeros(len(sym))\n",
    "    for i,x in enumerate(sym):\n",
    "        for j,y in enumerate(sym):\n",
    "            hess_m_f[i,j] = Derivative(Derivative(f,y),x)\n",
    "            hess_m_expr[i,j] = Derivative(Derivative(expr,y),x)\n",
    "            hess_m[i,j] = diff(diff(expr,y),x)\n",
    "    display(Eq(hess,hess_m_f))  \n",
    "    display(Eq(hess,hess_m_expr)) \n",
    "    display(Eq(hess,hess_m))\n",
    "    print('\\nStep-2: Computing the step size \\u03C4\\n')\n",
    "    #display(hess_m.subs(sym[1], Symbol('y_i')))\n",
    "   \n",
    "    sym_list = [x.strip() for x in  list(''.join(str_symbols)) if x !=' ']\n",
    "    grad_m_i = grad_m.subs([(s,Symbol(f'{t}_i')) for s,t in zip(sym,sym_list)])\n",
    "    hess_m_i = hess_m.subs([(s,Symbol(f'{t}_i')) for s,t in zip(sym,sym_list)])\n",
    "    tau_sym = Symbol('\\u03C4_i')\n",
    "    grad_i = Symbol('\\u2207f_i')\n",
    "    grad_i_T = Symbol('\\u2207f_i^T')\n",
    "    hess_i = Symbol('Hf_i')\n",
    "    \n",
    "    if not tau:\n",
    "        tau_f = Mul(Mul(grad_i_T,grad_i), Pow(Mul(Mul(grad_i_T,hess_i),grad_i), Integer(-1)), evaluate=False)\n",
    "\n",
    "    #     Mul(Mul(Mul(Mul(Transpose(grad_i),grad_i),Pow(Transpose(grad_i),Integer(-1))),Pow(hess_i, Integer(-1))),\n",
    "    #                 Pow(grad_i, Integer(-1)))\n",
    "\n",
    "        #display(Eq(tau,tau_f))\n",
    "        print('\\u03C4\\u1D62 = \\u2207f\\u1D62\\u1D40*\\u2207f\\u1D62/\\u2207f\\u1D62\\u1D40*Hf\\u1D62*\\u2207f\\u1D62\\n')\n",
    "        tau_expr = MatMul(MatMul(Transpose(grad_m_i),grad_m_i), Pow(MatMul(MatMul(Transpose(grad_m_i),hess_m_i, evaluate=False)\n",
    "                                                                  ,grad_m_i, evaluate=False)\n",
    "                                                              , Integer(-1)), evaluate=False)\n",
    "        display(tau_expr)\n",
    "        num = (Transpose(grad_m_i)*grad_m_i)[0]\n",
    "        den = (Transpose(grad_m_i)*hess_m_i*grad_m_i)[0]\n",
    "        tau_expr = num/den\n",
    "    else:\n",
    "        tau_expr = tau\n",
    "        \n",
    "    display(Eq(tau_sym,tau_expr))\n",
    "    \n",
    "    print('\\nStep-3: Iterate the minimum point')\n",
    "    display(Eq(Symbol('x_i_+_1'), Symbol('x_i') - tau_sym*grad_i))\n",
    "    sym_i = [Symbol(f'{t}_i') for t in sym_list]\n",
    "    sym_i_plus = [Symbol(f'{t}_i_+_1') for t in sym_list]\n",
    "    display(Eq(Matrix(sym_i_plus), MatAdd(Matrix(sym_i), - MatMul(tau_sym,grad_m_i), evaluate=False)))\n",
    "    display(Eq(Matrix(sym_i_plus), MatAdd(Matrix(sym_i), - MatMul(tau_expr,grad_m_i))))\n",
    "    \n",
    "    x_old = x_init\n",
    "    display(Eq(Matrix([Symbol(f'{t}_0') for t in sym_list]), Matrix(x_old)))\n",
    "    for i in range(n_iter):\n",
    "        print(f'\\nIteration - {i+1}:\\n')\n",
    "        sym_old = [Symbol(f'{t}_{i}') for t in sym_list]\n",
    "        sym_new = [Symbol(f'{t}_{i+1}') for t in sym_list]\n",
    "        display(Eq(Matrix(sym_new), MatAdd(Matrix(sym_old), - MatMul(tau_expr if isinstance(tau_expr, float) else\n",
    "                                                    tau_expr.subs([(s,t) for s,t in zip(sym_i, sym_old)])\n",
    "                                                                     ,grad_m_i.subs([(s,t) for s,t in zip(sym_i, sym_old)])))))\n",
    "        display(Eq(Matrix(sym_new), MatAdd(Matrix(x_old), - MatMul(tau_expr if isinstance(tau_expr, float) else\n",
    "                                                                tau_expr.subs([(s,t) for s,t in zip(sym_i, x_old)])\n",
    "                                                                     ,grad_m_i.subs([(s,t) for s,t in zip(sym_i, x_old)]),\n",
    "                                                                  evaluate=False))))\n",
    "        x_new = Add(Matrix(x_old), - MatMul(tau_expr if isinstance(tau_expr, float) else\n",
    "                                            tau_expr.subs([(s,t) for s,t in zip(sym_i, x_old)])\n",
    "                                                                     ,grad_m_i.subs([(s,t) for s,t in zip(sym_i, x_old)]),\n",
    "                                                                  evaluate=False))\n",
    "        x_new = [N(element, rounding_digit) for element in x_new]\n",
    "        display(Eq(Matrix(sym_new), Add(Matrix(x_old), - MatMul(tau_expr if isinstance(tau_expr, float) else\n",
    "                                                                tau_expr.subs([(s,t) for s,t in zip(sym_i, x_old)])\n",
    "                                                                     ,grad_m_i.subs([(s,t) for s,t in zip(sym_i, x_old)]),\n",
    "                                                                  evaluate=False))))\n",
    "        display(Eq(Matrix(sym_new), Matrix(x_new)))\n",
    "        \n",
    "        display(Eq(f.subs([(s,t) for s,t in zip(sym, sym_new)]), expr.subs([(s,t) for s,t in zip(sym, sym_new)])))\n",
    "        \n",
    "        display(Eq(f.subs([(s,t) for s,t in zip(sym, x_new)]), expr.subs([(s,t) for s,t in zip(sym, x_new)])))\n",
    "        \n",
    "        x_old = x_new\n",
    "        \n",
    "        #display(Eq(Matrix(sym_i_plus), MatAdd(Matrix(sym_i), - MatMul(tau_expr,grad_m_i))))"
   ]
  },
  {
   "cell_type": "code",
   "execution_count": 157,
   "id": "5242523d",
   "metadata": {},
   "outputs": [
    {
     "name": "stdout",
     "output_type": "stream",
     "text": [
      "The function is\n"
     ]
    },
    {
     "data": {
      "text/latex": [
       "$\\displaystyle f{\\left(x,y,z \\right)} = 3 x^{2} + 4 y^{2} + z^{2}$"
      ],
      "text/plain": [
       "Eq(f(x, y, z), 3*x**2 + 4*y**2 + z**2)"
      ]
     },
     "metadata": {},
     "output_type": "display_data"
    },
    {
     "name": "stdout",
     "output_type": "stream",
     "text": [
      "\n",
      "Step-1: Finding gradient and hessian Matrix of the function\n"
     ]
    },
    {
     "data": {
      "text/latex": [
       "$\\displaystyle ∇f = \\left[\\begin{matrix}\\frac{\\partial}{\\partial x} f{\\left(x,y,z \\right)}\\\\\\frac{\\partial}{\\partial y} f{\\left(x,y,z \\right)}\\\\\\frac{\\partial}{\\partial z} f{\\left(x,y,z \\right)}\\end{matrix}\\right]$"
      ],
      "text/plain": [
       "Eq(∇f, Matrix([\n",
       "[Derivative(f(x, y, z), x)],\n",
       "[Derivative(f(x, y, z), y)],\n",
       "[Derivative(f(x, y, z), z)]]))"
      ]
     },
     "metadata": {},
     "output_type": "display_data"
    },
    {
     "data": {
      "text/latex": [
       "$\\displaystyle ∇f = \\left[\\begin{matrix}\\frac{\\partial}{\\partial x} \\left(3 x^{2} + 4 y^{2} + z^{2}\\right)\\\\\\frac{\\partial}{\\partial y} \\left(3 x^{2} + 4 y^{2} + z^{2}\\right)\\\\\\frac{\\partial}{\\partial z} \\left(3 x^{2} + 4 y^{2} + z^{2}\\right)\\end{matrix}\\right]$"
      ],
      "text/plain": [
       "Eq(∇f, Matrix([\n",
       "[Derivative(3*x**2 + 4*y**2 + z**2, x)],\n",
       "[Derivative(3*x**2 + 4*y**2 + z**2, y)],\n",
       "[Derivative(3*x**2 + 4*y**2 + z**2, z)]]))"
      ]
     },
     "metadata": {},
     "output_type": "display_data"
    },
    {
     "data": {
      "text/latex": [
       "$\\displaystyle ∇f = \\left[\\begin{matrix}6 x\\\\8 y\\\\2 z\\end{matrix}\\right]$"
      ],
      "text/plain": [
       "Eq(∇f, Matrix([\n",
       "[6*x],\n",
       "[8*y],\n",
       "[2*z]]))"
      ]
     },
     "metadata": {},
     "output_type": "display_data"
    },
    {
     "name": "stdout",
     "output_type": "stream",
     "text": [
      "\n",
      "Creating the Hessian Matrix\n"
     ]
    },
    {
     "data": {
      "text/latex": [
       "$\\displaystyle Hf = \\left[\\begin{matrix}\\frac{\\partial^{2}}{\\partial x^{2}} f{\\left(x,y,z \\right)} & \\frac{\\partial^{2}}{\\partial x\\partial y} f{\\left(x,y,z \\right)} & \\frac{\\partial^{2}}{\\partial x\\partial z} f{\\left(x,y,z \\right)}\\\\\\frac{\\partial^{2}}{\\partial y\\partial x} f{\\left(x,y,z \\right)} & \\frac{\\partial^{2}}{\\partial y^{2}} f{\\left(x,y,z \\right)} & \\frac{\\partial^{2}}{\\partial y\\partial z} f{\\left(x,y,z \\right)}\\\\\\frac{\\partial^{2}}{\\partial z\\partial x} f{\\left(x,y,z \\right)} & \\frac{\\partial^{2}}{\\partial z\\partial y} f{\\left(x,y,z \\right)} & \\frac{\\partial^{2}}{\\partial z^{2}} f{\\left(x,y,z \\right)}\\end{matrix}\\right]$"
      ],
      "text/plain": [
       "Eq(Hf, Matrix([\n",
       "[Derivative(f(x, y, z), (x, 2)),   Derivative(f(x, y, z), y, x),   Derivative(f(x, y, z), z, x)],\n",
       "[  Derivative(f(x, y, z), x, y), Derivative(f(x, y, z), (y, 2)),   Derivative(f(x, y, z), z, y)],\n",
       "[  Derivative(f(x, y, z), x, z),   Derivative(f(x, y, z), y, z), Derivative(f(x, y, z), (z, 2))]]))"
      ]
     },
     "metadata": {},
     "output_type": "display_data"
    },
    {
     "data": {
      "text/latex": [
       "$\\displaystyle Hf = \\left[\\begin{matrix}\\frac{\\partial^{2}}{\\partial x^{2}} \\left(3 x^{2} + 4 y^{2} + z^{2}\\right) & \\frac{\\partial^{2}}{\\partial x\\partial y} \\left(3 x^{2} + 4 y^{2} + z^{2}\\right) & \\frac{\\partial^{2}}{\\partial x\\partial z} \\left(3 x^{2} + 4 y^{2} + z^{2}\\right)\\\\\\frac{\\partial^{2}}{\\partial y\\partial x} \\left(3 x^{2} + 4 y^{2} + z^{2}\\right) & \\frac{\\partial^{2}}{\\partial y^{2}} \\left(3 x^{2} + 4 y^{2} + z^{2}\\right) & \\frac{\\partial^{2}}{\\partial y\\partial z} \\left(3 x^{2} + 4 y^{2} + z^{2}\\right)\\\\\\frac{\\partial^{2}}{\\partial z\\partial x} \\left(3 x^{2} + 4 y^{2} + z^{2}\\right) & \\frac{\\partial^{2}}{\\partial z\\partial y} \\left(3 x^{2} + 4 y^{2} + z^{2}\\right) & \\frac{\\partial^{2}}{\\partial z^{2}} \\left(3 x^{2} + 4 y^{2} + z^{2}\\right)\\end{matrix}\\right]$"
      ],
      "text/plain": [
       "Eq(Hf, Matrix([\n",
       "[Derivative(3*x**2 + 4*y**2 + z**2, (x, 2)),   Derivative(3*x**2 + 4*y**2 + z**2, y, x),   Derivative(3*x**2 + 4*y**2 + z**2, z, x)],\n",
       "[  Derivative(3*x**2 + 4*y**2 + z**2, x, y), Derivative(3*x**2 + 4*y**2 + z**2, (y, 2)),   Derivative(3*x**2 + 4*y**2 + z**2, z, y)],\n",
       "[  Derivative(3*x**2 + 4*y**2 + z**2, x, z),   Derivative(3*x**2 + 4*y**2 + z**2, y, z), Derivative(3*x**2 + 4*y**2 + z**2, (z, 2))]]))"
      ]
     },
     "metadata": {},
     "output_type": "display_data"
    },
    {
     "data": {
      "text/latex": [
       "$\\displaystyle Hf = \\left[\\begin{matrix}6 & 0 & 0\\\\0 & 8 & 0\\\\0 & 0 & 2\\end{matrix}\\right]$"
      ],
      "text/plain": [
       "Eq(Hf, Matrix([\n",
       "[6, 0, 0],\n",
       "[0, 8, 0],\n",
       "[0, 0, 2]]))"
      ]
     },
     "metadata": {},
     "output_type": "display_data"
    },
    {
     "name": "stdout",
     "output_type": "stream",
     "text": [
      "\n",
      "Step-2: Computing the step size τ\n",
      "\n",
      "τᵢ = ∇fᵢᵀ*∇fᵢ/∇fᵢᵀ*Hfᵢ*∇fᵢ\n",
      "\n"
     ]
    },
    {
     "data": {
      "text/latex": [
       "$\\displaystyle \\left(\\left[\\begin{matrix}6 x_{i}\\\\8 y_{i}\\\\2 z_{i}\\end{matrix}\\right]\\right)^{T} \\left[\\begin{matrix}6 x_{i}\\\\8 y_{i}\\\\2 z_{i}\\end{matrix}\\right] \\left(\\left(\\left[\\begin{matrix}6 x_{i}\\\\8 y_{i}\\\\2 z_{i}\\end{matrix}\\right]\\right)^{T} \\left[\\begin{matrix}6 & 0 & 0\\\\0 & 8 & 0\\\\0 & 0 & 2\\end{matrix}\\right] \\left[\\begin{matrix}6 x_{i}\\\\8 y_{i}\\\\2 z_{i}\\end{matrix}\\right]\\right)^{-1}$"
      ],
      "text/plain": [
       "(Matrix([\n",
       "[6*x_i],\n",
       "[8*y_i],\n",
       "[2*z_i]]).T*Matrix([\n",
       "[6*x_i],\n",
       "[8*y_i],\n",
       "[2*z_i]]))*((Matrix([\n",
       "[6*x_i],\n",
       "[8*y_i],\n",
       "[2*z_i]]).T*Matrix([\n",
       "[6, 0, 0],\n",
       "[0, 8, 0],\n",
       "[0, 0, 2]]))*Matrix([\n",
       "[6*x_i],\n",
       "[8*y_i],\n",
       "[2*z_i]]))**(-1)"
      ]
     },
     "metadata": {},
     "output_type": "display_data"
    },
    {
     "data": {
      "text/latex": [
       "$\\displaystyle τ_{i} = \\frac{36 x_{i}^{2} + 64 y_{i}^{2} + 4 z_{i}^{2}}{216 x_{i}^{2} + 512 y_{i}^{2} + 8 z_{i}^{2}}$"
      ],
      "text/plain": [
       "Eq(τ_i, (36*x_i**2 + 64*y_i**2 + 4*z_i**2)/(216*x_i**2 + 512*y_i**2 + 8*z_i**2))"
      ]
     },
     "metadata": {},
     "output_type": "display_data"
    },
    {
     "name": "stdout",
     "output_type": "stream",
     "text": [
      "\n",
      "Step-3: Iterate the minimum point\n"
     ]
    },
    {
     "data": {
      "text/latex": [
       "$\\displaystyle x_{i + 1} = x_{i} - τ_{i} ∇f_{i}$"
      ],
      "text/plain": [
       "Eq(x_i_+_1, x_i - τ_i*∇f_i)"
      ]
     },
     "metadata": {},
     "output_type": "display_data"
    },
    {
     "data": {
      "text/latex": [
       "$\\displaystyle \\left[\\begin{matrix}x_{i + 1}\\\\y_{i + 1}\\\\z_{i + 1}\\end{matrix}\\right] = - τ_{i} \\left[\\begin{matrix}6 x_{i}\\\\8 y_{i}\\\\2 z_{i}\\end{matrix}\\right] + \\left[\\begin{matrix}x_{i}\\\\y_{i}\\\\z_{i}\\end{matrix}\\right]$"
      ],
      "text/plain": [
       "Eq(Matrix([\n",
       "[x_i_+_1],\n",
       "[y_i_+_1],\n",
       "[z_i_+_1]]), (-τ_i)*Matrix([\n",
       "[6*x_i],\n",
       "[8*y_i],\n",
       "[2*z_i]]) + Matrix([\n",
       "[x_i],\n",
       "[y_i],\n",
       "[z_i]]))"
      ]
     },
     "metadata": {},
     "output_type": "display_data"
    },
    {
     "data": {
      "text/latex": [
       "$\\displaystyle \\left[\\begin{matrix}x_{i + 1}\\\\y_{i + 1}\\\\z_{i + 1}\\end{matrix}\\right] = - \\left(36 x_{i}^{2} + 64 y_{i}^{2} + 4 z_{i}^{2}\\right) \\frac{1}{216 x_{i}^{2} + 512 y_{i}^{2} + 8 z_{i}^{2}} \\left[\\begin{matrix}6 x_{i}\\\\8 y_{i}\\\\2 z_{i}\\end{matrix}\\right] + \\left[\\begin{matrix}x_{i}\\\\y_{i}\\\\z_{i}\\end{matrix}\\right]$"
      ],
      "text/plain": [
       "Eq(Matrix([\n",
       "[x_i_+_1],\n",
       "[y_i_+_1],\n",
       "[z_i_+_1]]), (-(36*x_i**2 + 64*y_i**2 + 4*z_i**2)/(216*x_i**2 + 512*y_i**2 + 8*z_i**2))*Matrix([\n",
       "[6*x_i],\n",
       "[8*y_i],\n",
       "[2*z_i]]) + Matrix([\n",
       "[x_i],\n",
       "[y_i],\n",
       "[z_i]]))"
      ]
     },
     "metadata": {},
     "output_type": "display_data"
    },
    {
     "data": {
      "text/latex": [
       "$\\displaystyle \\left[\\begin{matrix}x_{0}\\\\y_{0}\\\\z_{0}\\end{matrix}\\right] = \\left[\\begin{matrix}1\\\\3\\\\1\\end{matrix}\\right]$"
      ],
      "text/plain": [
       "Eq(Matrix([\n",
       "[x_0],\n",
       "[y_0],\n",
       "[z_0]]), Matrix([\n",
       "[1],\n",
       "[3],\n",
       "[1]]))"
      ]
     },
     "metadata": {},
     "output_type": "display_data"
    },
    {
     "name": "stdout",
     "output_type": "stream",
     "text": [
      "\n",
      "Iteration - 1:\n",
      "\n"
     ]
    },
    {
     "data": {
      "text/latex": [
       "$\\displaystyle \\left[\\begin{matrix}x_{1}\\\\y_{1}\\\\z_{1}\\end{matrix}\\right] = - \\left(36 x_{0}^{2} + 64 y_{0}^{2} + 4 z_{0}^{2}\\right) \\frac{1}{216 x_{0}^{2} + 512 y_{0}^{2} + 8 z_{0}^{2}} \\left[\\begin{matrix}6 x_{0}\\\\8 y_{0}\\\\2 z_{0}\\end{matrix}\\right] + \\left[\\begin{matrix}x_{0}\\\\y_{0}\\\\z_{0}\\end{matrix}\\right]$"
      ],
      "text/plain": [
       "Eq(Matrix([\n",
       "[x_1],\n",
       "[y_1],\n",
       "[z_1]]), (-(36*x_0**2 + 64*y_0**2 + 4*z_0**2)/(216*x_0**2 + 512*y_0**2 + 8*z_0**2))*Matrix([\n",
       "[6*x_0],\n",
       "[8*y_0],\n",
       "[2*z_0]]) + Matrix([\n",
       "[x_0],\n",
       "[y_0],\n",
       "[z_0]]))"
      ]
     },
     "metadata": {},
     "output_type": "display_data"
    },
    {
     "data": {
      "text/latex": [
       "$\\displaystyle \\left[\\begin{matrix}x_{1}\\\\y_{1}\\\\z_{1}\\end{matrix}\\right] = \\left[\\begin{matrix}- \\frac{231}{302}\\\\- \\frac{462}{151}\\\\- \\frac{77}{302}\\end{matrix}\\right] + \\left[\\begin{matrix}1\\\\3\\\\1\\end{matrix}\\right]$"
      ],
      "text/plain": [
       "Eq(Matrix([\n",
       "[x_1],\n",
       "[y_1],\n",
       "[z_1]]), Matrix([\n",
       "[-231/302],\n",
       "[-462/151],\n",
       "[ -77/302]]) + Matrix([\n",
       "[1],\n",
       "[3],\n",
       "[1]]))"
      ]
     },
     "metadata": {},
     "output_type": "display_data"
    },
    {
     "data": {
      "text/latex": [
       "$\\displaystyle \\left[\\begin{matrix}x_{1}\\\\y_{1}\\\\z_{1}\\end{matrix}\\right] = \\left[\\begin{matrix}\\frac{71}{302}\\\\- \\frac{9}{151}\\\\\\frac{225}{302}\\end{matrix}\\right]$"
      ],
      "text/plain": [
       "Eq(Matrix([\n",
       "[x_1],\n",
       "[y_1],\n",
       "[z_1]]), Matrix([\n",
       "[ 71/302],\n",
       "[ -9/151],\n",
       "[225/302]]))"
      ]
     },
     "metadata": {},
     "output_type": "display_data"
    },
    {
     "data": {
      "text/latex": [
       "$\\displaystyle \\left[\\begin{matrix}x_{1}\\\\y_{1}\\\\z_{1}\\end{matrix}\\right] = \\left[\\begin{matrix}0.2351\\\\-0.0596\\\\0.745\\end{matrix}\\right]$"
      ],
      "text/plain": [
       "Eq(Matrix([\n",
       "[x_1],\n",
       "[y_1],\n",
       "[z_1]]), Matrix([\n",
       "[ 0.2351],\n",
       "[-0.0596],\n",
       "[  0.745]]))"
      ]
     },
     "metadata": {},
     "output_type": "display_data"
    },
    {
     "data": {
      "text/latex": [
       "$\\displaystyle f{\\left(x_{1},y_{1},z_{1} \\right)} = 3 x_{1}^{2} + 4 y_{1}^{2} + z_{1}^{2}$"
      ],
      "text/plain": [
       "Eq(f(x_1, y_1, z_1), 3*x_1**2 + 4*y_1**2 + z_1**2)"
      ]
     },
     "metadata": {},
     "output_type": "display_data"
    },
    {
     "data": {
      "text/latex": [
       "$\\displaystyle f{\\left(0.2351,-0.0596,0.745 \\right)} = 0.7351$"
      ],
      "text/plain": [
       "Eq(f(0.2351, -0.0596, 0.745), 0.7351)"
      ]
     },
     "metadata": {},
     "output_type": "display_data"
    },
    {
     "name": "stdout",
     "output_type": "stream",
     "text": [
      "\n",
      "Iteration - 2:\n",
      "\n"
     ]
    },
    {
     "data": {
      "text/latex": [
       "$\\displaystyle \\left[\\begin{matrix}x_{2}\\\\y_{2}\\\\z_{2}\\end{matrix}\\right] = - \\left(36 x_{1}^{2} + 64 y_{1}^{2} + 4 z_{1}^{2}\\right) \\frac{1}{216 x_{1}^{2} + 512 y_{1}^{2} + 8 z_{1}^{2}} \\left[\\begin{matrix}6 x_{1}\\\\8 y_{1}\\\\2 z_{1}\\end{matrix}\\right] + \\left[\\begin{matrix}x_{1}\\\\y_{1}\\\\z_{1}\\end{matrix}\\right]$"
      ],
      "text/plain": [
       "Eq(Matrix([\n",
       "[x_2],\n",
       "[y_2],\n",
       "[z_2]]), (-(36*x_1**2 + 64*y_1**2 + 4*z_1**2)/(216*x_1**2 + 512*y_1**2 + 8*z_1**2))*Matrix([\n",
       "[6*x_1],\n",
       "[8*y_1],\n",
       "[2*z_1]]) + Matrix([\n",
       "[x_1],\n",
       "[y_1],\n",
       "[z_1]]))"
      ]
     },
     "metadata": {},
     "output_type": "display_data"
    },
    {
     "data": {
      "text/latex": [
       "$\\displaystyle \\left[\\begin{matrix}x_{2}\\\\y_{2}\\\\z_{2}\\end{matrix}\\right] = \\left[\\begin{matrix}-0.344\\\\0.1163\\\\-0.3633\\end{matrix}\\right] + \\left[\\begin{matrix}0.2351\\\\-0.0596\\\\0.745\\end{matrix}\\right]$"
      ],
      "text/plain": [
       "Eq(Matrix([\n",
       "[x_2],\n",
       "[y_2],\n",
       "[z_2]]), Matrix([\n",
       "[ -0.344],\n",
       "[ 0.1163],\n",
       "[-0.3633]]) + Matrix([\n",
       "[ 0.2351],\n",
       "[-0.0596],\n",
       "[  0.745]]))"
      ]
     },
     "metadata": {},
     "output_type": "display_data"
    },
    {
     "data": {
      "text/latex": [
       "$\\displaystyle \\left[\\begin{matrix}x_{2}\\\\y_{2}\\\\z_{2}\\end{matrix}\\right] = \\left[\\begin{matrix}-0.1089\\\\0.05667\\\\0.3817\\end{matrix}\\right]$"
      ],
      "text/plain": [
       "Eq(Matrix([\n",
       "[x_2],\n",
       "[y_2],\n",
       "[z_2]]), Matrix([\n",
       "[-0.1089],\n",
       "[0.05667],\n",
       "[ 0.3817]]))"
      ]
     },
     "metadata": {},
     "output_type": "display_data"
    },
    {
     "data": {
      "text/latex": [
       "$\\displaystyle \\left[\\begin{matrix}x_{2}\\\\y_{2}\\\\z_{2}\\end{matrix}\\right] = \\left[\\begin{matrix}-0.1089\\\\0.05667\\\\0.3817\\end{matrix}\\right]$"
      ],
      "text/plain": [
       "Eq(Matrix([\n",
       "[x_2],\n",
       "[y_2],\n",
       "[z_2]]), Matrix([\n",
       "[-0.1089],\n",
       "[0.05667],\n",
       "[ 0.3817]]))"
      ]
     },
     "metadata": {},
     "output_type": "display_data"
    },
    {
     "data": {
      "text/latex": [
       "$\\displaystyle f{\\left(x_{2},y_{2},z_{2} \\right)} = 3 x_{2}^{2} + 4 y_{2}^{2} + z_{2}^{2}$"
      ],
      "text/plain": [
       "Eq(f(x_2, y_2, z_2), 3*x_2**2 + 4*y_2**2 + z_2**2)"
      ]
     },
     "metadata": {},
     "output_type": "display_data"
    },
    {
     "data": {
      "text/latex": [
       "$\\displaystyle f{\\left(-0.1089,0.05667,0.3817 \\right)} = 0.1941$"
      ],
      "text/plain": [
       "Eq(f(-0.1089, 0.05667, 0.3817), 0.1941)"
      ]
     },
     "metadata": {},
     "output_type": "display_data"
    },
    {
     "name": "stdout",
     "output_type": "stream",
     "text": [
      "\n",
      "Iteration - 3:\n",
      "\n"
     ]
    },
    {
     "data": {
      "text/latex": [
       "$\\displaystyle \\left[\\begin{matrix}x_{3}\\\\y_{3}\\\\z_{3}\\end{matrix}\\right] = - \\left(36 x_{2}^{2} + 64 y_{2}^{2} + 4 z_{2}^{2}\\right) \\frac{1}{216 x_{2}^{2} + 512 y_{2}^{2} + 8 z_{2}^{2}} \\left[\\begin{matrix}6 x_{2}\\\\8 y_{2}\\\\2 z_{2}\\end{matrix}\\right] + \\left[\\begin{matrix}x_{2}\\\\y_{2}\\\\z_{2}\\end{matrix}\\right]$"
      ],
      "text/plain": [
       "Eq(Matrix([\n",
       "[x_3],\n",
       "[y_3],\n",
       "[z_3]]), (-(36*x_2**2 + 64*y_2**2 + 4*z_2**2)/(216*x_2**2 + 512*y_2**2 + 8*z_2**2))*Matrix([\n",
       "[6*x_2],\n",
       "[8*y_2],\n",
       "[2*z_2]]) + Matrix([\n",
       "[x_2],\n",
       "[y_2],\n",
       "[z_2]]))"
      ]
     },
     "metadata": {},
     "output_type": "display_data"
    },
    {
     "data": {
      "text/latex": [
       "$\\displaystyle \\left[\\begin{matrix}x_{3}\\\\y_{3}\\\\z_{3}\\end{matrix}\\right] = \\left[\\begin{matrix}-0.1089\\\\0.05667\\\\0.3817\\end{matrix}\\right] + \\left[\\begin{matrix}0.1478\\\\-0.1026\\\\-0.1727\\end{matrix}\\right]$"
      ],
      "text/plain": [
       "Eq(Matrix([\n",
       "[x_3],\n",
       "[y_3],\n",
       "[z_3]]), Matrix([\n",
       "[-0.1089],\n",
       "[0.05667],\n",
       "[ 0.3817]]) + Matrix([\n",
       "[ 0.1478],\n",
       "[-0.1026],\n",
       "[-0.1727]]))"
      ]
     },
     "metadata": {},
     "output_type": "display_data"
    },
    {
     "data": {
      "text/latex": [
       "$\\displaystyle \\left[\\begin{matrix}x_{3}\\\\y_{3}\\\\z_{3}\\end{matrix}\\right] = \\left[\\begin{matrix}0.03893\\\\-0.04591\\\\0.209\\end{matrix}\\right]$"
      ],
      "text/plain": [
       "Eq(Matrix([\n",
       "[x_3],\n",
       "[y_3],\n",
       "[z_3]]), Matrix([\n",
       "[ 0.03893],\n",
       "[-0.04591],\n",
       "[   0.209]]))"
      ]
     },
     "metadata": {},
     "output_type": "display_data"
    },
    {
     "data": {
      "text/latex": [
       "$\\displaystyle \\left[\\begin{matrix}x_{3}\\\\y_{3}\\\\z_{3}\\end{matrix}\\right] = \\left[\\begin{matrix}0.03893\\\\-0.04591\\\\0.209\\end{matrix}\\right]$"
      ],
      "text/plain": [
       "Eq(Matrix([\n",
       "[x_3],\n",
       "[y_3],\n",
       "[z_3]]), Matrix([\n",
       "[ 0.03893],\n",
       "[-0.04591],\n",
       "[   0.209]]))"
      ]
     },
     "metadata": {},
     "output_type": "display_data"
    },
    {
     "data": {
      "text/latex": [
       "$\\displaystyle f{\\left(x_{3},y_{3},z_{3} \\right)} = 3 x_{3}^{2} + 4 y_{3}^{2} + z_{3}^{2}$"
      ],
      "text/plain": [
       "Eq(f(x_3, y_3, z_3), 3*x_3**2 + 4*y_3**2 + z_3**2)"
      ]
     },
     "metadata": {},
     "output_type": "display_data"
    },
    {
     "data": {
      "text/latex": [
       "$\\displaystyle f{\\left(0.03893,-0.04591,0.209 \\right)} = 0.05664$"
      ],
      "text/plain": [
       "Eq(f(0.03893, -0.04591, 0.209), 0.05664)"
      ]
     },
     "metadata": {},
     "output_type": "display_data"
    },
    {
     "name": "stdout",
     "output_type": "stream",
     "text": [
      "\n",
      "Iteration - 4:\n",
      "\n"
     ]
    },
    {
     "data": {
      "text/latex": [
       "$\\displaystyle \\left[\\begin{matrix}x_{4}\\\\y_{4}\\\\z_{4}\\end{matrix}\\right] = - \\left(36 x_{3}^{2} + 64 y_{3}^{2} + 4 z_{3}^{2}\\right) \\frac{1}{216 x_{3}^{2} + 512 y_{3}^{2} + 8 z_{3}^{2}} \\left[\\begin{matrix}6 x_{3}\\\\8 y_{3}\\\\2 z_{3}\\end{matrix}\\right] + \\left[\\begin{matrix}x_{3}\\\\y_{3}\\\\z_{3}\\end{matrix}\\right]$"
      ],
      "text/plain": [
       "Eq(Matrix([\n",
       "[x_4],\n",
       "[y_4],\n",
       "[z_4]]), (-(36*x_3**2 + 64*y_3**2 + 4*z_3**2)/(216*x_3**2 + 512*y_3**2 + 8*z_3**2))*Matrix([\n",
       "[6*x_3],\n",
       "[8*y_3],\n",
       "[2*z_3]]) + Matrix([\n",
       "[x_3],\n",
       "[y_3],\n",
       "[z_3]]))"
      ]
     },
     "metadata": {},
     "output_type": "display_data"
    },
    {
     "data": {
      "text/latex": [
       "$\\displaystyle \\left[\\begin{matrix}x_{4}\\\\y_{4}\\\\z_{4}\\end{matrix}\\right] = \\left[\\begin{matrix}-0.04844\\\\0.07616\\\\-0.08667\\end{matrix}\\right] + \\left[\\begin{matrix}0.03893\\\\-0.04591\\\\0.209\\end{matrix}\\right]$"
      ],
      "text/plain": [
       "Eq(Matrix([\n",
       "[x_4],\n",
       "[y_4],\n",
       "[z_4]]), Matrix([\n",
       "[-0.04844],\n",
       "[ 0.07616],\n",
       "[-0.08667]]) + Matrix([\n",
       "[ 0.03893],\n",
       "[-0.04591],\n",
       "[   0.209]]))"
      ]
     },
     "metadata": {},
     "output_type": "display_data"
    },
    {
     "data": {
      "text/latex": [
       "$\\displaystyle \\left[\\begin{matrix}x_{4}\\\\y_{4}\\\\z_{4}\\end{matrix}\\right] = \\left[\\begin{matrix}-0.009511\\\\0.03026\\\\0.1223\\end{matrix}\\right]$"
      ],
      "text/plain": [
       "Eq(Matrix([\n",
       "[x_4],\n",
       "[y_4],\n",
       "[z_4]]), Matrix([\n",
       "[-0.009511],\n",
       "[  0.03026],\n",
       "[   0.1223]]))"
      ]
     },
     "metadata": {},
     "output_type": "display_data"
    },
    {
     "data": {
      "text/latex": [
       "$\\displaystyle \\left[\\begin{matrix}x_{4}\\\\y_{4}\\\\z_{4}\\end{matrix}\\right] = \\left[\\begin{matrix}-0.009511\\\\0.03026\\\\0.1223\\end{matrix}\\right]$"
      ],
      "text/plain": [
       "Eq(Matrix([\n",
       "[x_4],\n",
       "[y_4],\n",
       "[z_4]]), Matrix([\n",
       "[-0.009511],\n",
       "[  0.03026],\n",
       "[   0.1223]]))"
      ]
     },
     "metadata": {},
     "output_type": "display_data"
    },
    {
     "data": {
      "text/latex": [
       "$\\displaystyle f{\\left(x_{4},y_{4},z_{4} \\right)} = 3 x_{4}^{2} + 4 y_{4}^{2} + z_{4}^{2}$"
      ],
      "text/plain": [
       "Eq(f(x_4, y_4, z_4), 3*x_4**2 + 4*y_4**2 + z_4**2)"
      ]
     },
     "metadata": {},
     "output_type": "display_data"
    },
    {
     "data": {
      "text/latex": [
       "$\\displaystyle f{\\left(-0.009511,0.03026,0.1223 \\right)} = 0.01889$"
      ],
      "text/plain": [
       "Eq(f(-0.009511, 0.03026, 0.1223), 0.01889)"
      ]
     },
     "metadata": {},
     "output_type": "display_data"
    },
    {
     "name": "stdout",
     "output_type": "stream",
     "text": [
      "\n",
      "Iteration - 5:\n",
      "\n"
     ]
    },
    {
     "data": {
      "text/latex": [
       "$\\displaystyle \\left[\\begin{matrix}x_{5}\\\\y_{5}\\\\z_{5}\\end{matrix}\\right] = - \\left(36 x_{4}^{2} + 64 y_{4}^{2} + 4 z_{4}^{2}\\right) \\frac{1}{216 x_{4}^{2} + 512 y_{4}^{2} + 8 z_{4}^{2}} \\left[\\begin{matrix}6 x_{4}\\\\8 y_{4}\\\\2 z_{4}\\end{matrix}\\right] + \\left[\\begin{matrix}x_{4}\\\\y_{4}\\\\z_{4}\\end{matrix}\\right]$"
      ],
      "text/plain": [
       "Eq(Matrix([\n",
       "[x_5],\n",
       "[y_5],\n",
       "[z_5]]), (-(36*x_4**2 + 64*y_4**2 + 4*z_4**2)/(216*x_4**2 + 512*y_4**2 + 8*z_4**2))*Matrix([\n",
       "[6*x_4],\n",
       "[8*y_4],\n",
       "[2*z_4]]) + Matrix([\n",
       "[x_4],\n",
       "[y_4],\n",
       "[z_4]]))"
      ]
     },
     "metadata": {},
     "output_type": "display_data"
    },
    {
     "data": {
      "text/latex": [
       "$\\displaystyle \\left[\\begin{matrix}x_{5}\\\\y_{5}\\\\z_{5}\\end{matrix}\\right] = \\left[\\begin{matrix}-0.009511\\\\0.03026\\\\0.1223\\end{matrix}\\right] + \\left[\\begin{matrix}0.01142\\\\-0.04845\\\\-0.04895\\end{matrix}\\right]$"
      ],
      "text/plain": [
       "Eq(Matrix([\n",
       "[x_5],\n",
       "[y_5],\n",
       "[z_5]]), Matrix([\n",
       "[-0.009511],\n",
       "[  0.03026],\n",
       "[   0.1223]]) + Matrix([\n",
       "[ 0.01142],\n",
       "[-0.04845],\n",
       "[-0.04895]]))"
      ]
     },
     "metadata": {},
     "output_type": "display_data"
    },
    {
     "data": {
      "text/latex": [
       "$\\displaystyle \\left[\\begin{matrix}x_{5}\\\\y_{5}\\\\z_{5}\\end{matrix}\\right] = \\left[\\begin{matrix}0.00191\\\\-0.01819\\\\0.07334\\end{matrix}\\right]$"
      ],
      "text/plain": [
       "Eq(Matrix([\n",
       "[x_5],\n",
       "[y_5],\n",
       "[z_5]]), Matrix([\n",
       "[ 0.00191],\n",
       "[-0.01819],\n",
       "[ 0.07334]]))"
      ]
     },
     "metadata": {},
     "output_type": "display_data"
    },
    {
     "data": {
      "text/latex": [
       "$\\displaystyle \\left[\\begin{matrix}x_{5}\\\\y_{5}\\\\z_{5}\\end{matrix}\\right] = \\left[\\begin{matrix}0.00191\\\\-0.01819\\\\0.07334\\end{matrix}\\right]$"
      ],
      "text/plain": [
       "Eq(Matrix([\n",
       "[x_5],\n",
       "[y_5],\n",
       "[z_5]]), Matrix([\n",
       "[ 0.00191],\n",
       "[-0.01819],\n",
       "[ 0.07334]]))"
      ]
     },
     "metadata": {},
     "output_type": "display_data"
    },
    {
     "data": {
      "text/latex": [
       "$\\displaystyle f{\\left(x_{5},y_{5},z_{5} \\right)} = 3 x_{5}^{2} + 4 y_{5}^{2} + z_{5}^{2}$"
      ],
      "text/plain": [
       "Eq(f(x_5, y_5, z_5), 3*x_5**2 + 4*y_5**2 + z_5**2)"
      ]
     },
     "metadata": {},
     "output_type": "display_data"
    },
    {
     "data": {
      "text/latex": [
       "$\\displaystyle f{\\left(0.00191,-0.01819,0.07334 \\right)} = 0.006713$"
      ],
      "text/plain": [
       "Eq(f(0.00191, -0.01819, 0.07334), 0.006713)"
      ]
     },
     "metadata": {},
     "output_type": "display_data"
    },
    {
     "name": "stdout",
     "output_type": "stream",
     "text": [
      "\n",
      "Iteration - 6:\n",
      "\n"
     ]
    },
    {
     "data": {
      "text/latex": [
       "$\\displaystyle \\left[\\begin{matrix}x_{6}\\\\y_{6}\\\\z_{6}\\end{matrix}\\right] = - \\left(36 x_{5}^{2} + 64 y_{5}^{2} + 4 z_{5}^{2}\\right) \\frac{1}{216 x_{5}^{2} + 512 y_{5}^{2} + 8 z_{5}^{2}} \\left[\\begin{matrix}6 x_{5}\\\\8 y_{5}\\\\2 z_{5}\\end{matrix}\\right] + \\left[\\begin{matrix}x_{5}\\\\y_{5}\\\\z_{5}\\end{matrix}\\right]$"
      ],
      "text/plain": [
       "Eq(Matrix([\n",
       "[x_6],\n",
       "[y_6],\n",
       "[z_6]]), (-(36*x_5**2 + 64*y_5**2 + 4*z_5**2)/(216*x_5**2 + 512*y_5**2 + 8*z_5**2))*Matrix([\n",
       "[6*x_5],\n",
       "[8*y_5],\n",
       "[2*z_5]]) + Matrix([\n",
       "[x_5],\n",
       "[y_5],\n",
       "[z_5]]))"
      ]
     },
     "metadata": {},
     "output_type": "display_data"
    },
    {
     "data": {
      "text/latex": [
       "$\\displaystyle \\left[\\begin{matrix}x_{6}\\\\y_{6}\\\\z_{6}\\end{matrix}\\right] = \\left[\\begin{matrix}-0.002302\\\\0.02922\\\\-0.02946\\end{matrix}\\right] + \\left[\\begin{matrix}0.00191\\\\-0.01819\\\\0.07334\\end{matrix}\\right]$"
      ],
      "text/plain": [
       "Eq(Matrix([\n",
       "[x_6],\n",
       "[y_6],\n",
       "[z_6]]), Matrix([\n",
       "[-0.002302],\n",
       "[  0.02922],\n",
       "[ -0.02946]]) + Matrix([\n",
       "[ 0.00191],\n",
       "[-0.01819],\n",
       "[ 0.07334]]))"
      ]
     },
     "metadata": {},
     "output_type": "display_data"
    },
    {
     "data": {
      "text/latex": [
       "$\\displaystyle \\left[\\begin{matrix}x_{6}\\\\y_{6}\\\\z_{6}\\end{matrix}\\right] = \\left[\\begin{matrix}-0.0003917\\\\0.01104\\\\0.04388\\end{matrix}\\right]$"
      ],
      "text/plain": [
       "Eq(Matrix([\n",
       "[x_6],\n",
       "[y_6],\n",
       "[z_6]]), Matrix([\n",
       "[-0.0003917],\n",
       "[   0.01104],\n",
       "[   0.04388]]))"
      ]
     },
     "metadata": {},
     "output_type": "display_data"
    },
    {
     "data": {
      "text/latex": [
       "$\\displaystyle \\left[\\begin{matrix}x_{6}\\\\y_{6}\\\\z_{6}\\end{matrix}\\right] = \\left[\\begin{matrix}-0.0003917\\\\0.01104\\\\0.04388\\end{matrix}\\right]$"
      ],
      "text/plain": [
       "Eq(Matrix([\n",
       "[x_6],\n",
       "[y_6],\n",
       "[z_6]]), Matrix([\n",
       "[-0.0003917],\n",
       "[   0.01104],\n",
       "[   0.04388]]))"
      ]
     },
     "metadata": {},
     "output_type": "display_data"
    },
    {
     "data": {
      "text/latex": [
       "$\\displaystyle f{\\left(x_{6},y_{6},z_{6} \\right)} = 3 x_{6}^{2} + 4 y_{6}^{2} + z_{6}^{2}$"
      ],
      "text/plain": [
       "Eq(f(x_6, y_6, z_6), 3*x_6**2 + 4*y_6**2 + z_6**2)"
      ]
     },
     "metadata": {},
     "output_type": "display_data"
    },
    {
     "data": {
      "text/latex": [
       "$\\displaystyle f{\\left(-0.0003917,0.01104,0.04388 \\right)} = 0.002413$"
      ],
      "text/plain": [
       "Eq(f(-0.0003917, 0.01104, 0.04388), 0.002413)"
      ]
     },
     "metadata": {},
     "output_type": "display_data"
    },
    {
     "name": "stdout",
     "output_type": "stream",
     "text": [
      "\n",
      "Iteration - 7:\n",
      "\n"
     ]
    },
    {
     "data": {
      "text/latex": [
       "$\\displaystyle \\left[\\begin{matrix}x_{7}\\\\y_{7}\\\\z_{7}\\end{matrix}\\right] = - \\left(36 x_{6}^{2} + 64 y_{6}^{2} + 4 z_{6}^{2}\\right) \\frac{1}{216 x_{6}^{2} + 512 y_{6}^{2} + 8 z_{6}^{2}} \\left[\\begin{matrix}6 x_{6}\\\\8 y_{6}\\\\2 z_{6}\\end{matrix}\\right] + \\left[\\begin{matrix}x_{6}\\\\y_{6}\\\\z_{6}\\end{matrix}\\right]$"
      ],
      "text/plain": [
       "Eq(Matrix([\n",
       "[x_7],\n",
       "[y_7],\n",
       "[z_7]]), (-(36*x_6**2 + 64*y_6**2 + 4*z_6**2)/(216*x_6**2 + 512*y_6**2 + 8*z_6**2))*Matrix([\n",
       "[6*x_6],\n",
       "[8*y_6],\n",
       "[2*z_6]]) + Matrix([\n",
       "[x_6],\n",
       "[y_6],\n",
       "[z_6]]))"
      ]
     },
     "metadata": {},
     "output_type": "display_data"
    },
    {
     "data": {
      "text/latex": [
       "$\\displaystyle \\left[\\begin{matrix}x_{7}\\\\y_{7}\\\\z_{7}\\end{matrix}\\right] = \\left[\\begin{matrix}-0.0003917\\\\0.01104\\\\0.04388\\end{matrix}\\right] + \\left[\\begin{matrix}0.0004683\\\\-0.01759\\\\-0.01749\\end{matrix}\\right]$"
      ],
      "text/plain": [
       "Eq(Matrix([\n",
       "[x_7],\n",
       "[y_7],\n",
       "[z_7]]), Matrix([\n",
       "[-0.0003917],\n",
       "[   0.01104],\n",
       "[   0.04388]]) + Matrix([\n",
       "[0.0004683],\n",
       "[ -0.01759],\n",
       "[ -0.01749]]))"
      ]
     },
     "metadata": {},
     "output_type": "display_data"
    },
    {
     "data": {
      "text/latex": [
       "$\\displaystyle \\left[\\begin{matrix}x_{7}\\\\y_{7}\\\\z_{7}\\end{matrix}\\right] = \\left[\\begin{matrix}7.664 \\cdot 10^{-5}\\\\-0.006557\\\\0.02639\\end{matrix}\\right]$"
      ],
      "text/plain": [
       "Eq(Matrix([\n",
       "[x_7],\n",
       "[y_7],\n",
       "[z_7]]), Matrix([\n",
       "[ 7.664e-5],\n",
       "[-0.006557],\n",
       "[  0.02639]]))"
      ]
     },
     "metadata": {},
     "output_type": "display_data"
    },
    {
     "data": {
      "text/latex": [
       "$\\displaystyle \\left[\\begin{matrix}x_{7}\\\\y_{7}\\\\z_{7}\\end{matrix}\\right] = \\left[\\begin{matrix}7.664 \\cdot 10^{-5}\\\\-0.006557\\\\0.02639\\end{matrix}\\right]$"
      ],
      "text/plain": [
       "Eq(Matrix([\n",
       "[x_7],\n",
       "[y_7],\n",
       "[z_7]]), Matrix([\n",
       "[ 7.664e-5],\n",
       "[-0.006557],\n",
       "[  0.02639]]))"
      ]
     },
     "metadata": {},
     "output_type": "display_data"
    },
    {
     "data": {
      "text/latex": [
       "$\\displaystyle f{\\left(x_{7},y_{7},z_{7} \\right)} = 3 x_{7}^{2} + 4 y_{7}^{2} + z_{7}^{2}$"
      ],
      "text/plain": [
       "Eq(f(x_7, y_7, z_7), 3*x_7**2 + 4*y_7**2 + z_7**2)"
      ]
     },
     "metadata": {},
     "output_type": "display_data"
    },
    {
     "data": {
      "text/latex": [
       "$\\displaystyle f{\\left(7.664 \\cdot 10^{-5},-0.006557,0.02639 \\right)} = 0.0008686$"
      ],
      "text/plain": [
       "Eq(f(7.664e-5, -0.006557, 0.02639), 0.0008686)"
      ]
     },
     "metadata": {},
     "output_type": "display_data"
    },
    {
     "name": "stdout",
     "output_type": "stream",
     "text": [
      "\n",
      "Iteration - 8:\n",
      "\n"
     ]
    },
    {
     "data": {
      "text/latex": [
       "$\\displaystyle \\left[\\begin{matrix}x_{8}\\\\y_{8}\\\\z_{8}\\end{matrix}\\right] = - \\left(36 x_{7}^{2} + 64 y_{7}^{2} + 4 z_{7}^{2}\\right) \\frac{1}{216 x_{7}^{2} + 512 y_{7}^{2} + 8 z_{7}^{2}} \\left[\\begin{matrix}6 x_{7}\\\\8 y_{7}\\\\2 z_{7}\\end{matrix}\\right] + \\left[\\begin{matrix}x_{7}\\\\y_{7}\\\\z_{7}\\end{matrix}\\right]$"
      ],
      "text/plain": [
       "Eq(Matrix([\n",
       "[x_8],\n",
       "[y_8],\n",
       "[z_8]]), (-(36*x_7**2 + 64*y_7**2 + 4*z_7**2)/(216*x_7**2 + 512*y_7**2 + 8*z_7**2))*Matrix([\n",
       "[6*x_7],\n",
       "[8*y_7],\n",
       "[2*z_7]]) + Matrix([\n",
       "[x_7],\n",
       "[y_7],\n",
       "[z_7]]))"
      ]
     },
     "metadata": {},
     "output_type": "display_data"
    },
    {
     "data": {
      "text/latex": [
       "$\\displaystyle \\left[\\begin{matrix}x_{8}\\\\y_{8}\\\\z_{8}\\end{matrix}\\right] = \\left[\\begin{matrix}-9.231 \\cdot 10^{-5}\\\\0.01053\\\\-0.0106\\end{matrix}\\right] + \\left[\\begin{matrix}7.664 \\cdot 10^{-5}\\\\-0.006557\\\\0.02639\\end{matrix}\\right]$"
      ],
      "text/plain": [
       "Eq(Matrix([\n",
       "[x_8],\n",
       "[y_8],\n",
       "[z_8]]), Matrix([\n",
       "[-9.231e-5],\n",
       "[  0.01053],\n",
       "[  -0.0106]]) + Matrix([\n",
       "[ 7.664e-5],\n",
       "[-0.006557],\n",
       "[  0.02639]]))"
      ]
     },
     "metadata": {},
     "output_type": "display_data"
    },
    {
     "data": {
      "text/latex": [
       "$\\displaystyle \\left[\\begin{matrix}x_{8}\\\\y_{8}\\\\z_{8}\\end{matrix}\\right] = \\left[\\begin{matrix}-1.567 \\cdot 10^{-5}\\\\0.003973\\\\0.0158\\end{matrix}\\right]$"
      ],
      "text/plain": [
       "Eq(Matrix([\n",
       "[x_8],\n",
       "[y_8],\n",
       "[z_8]]), Matrix([\n",
       "[-1.567e-5],\n",
       "[ 0.003973],\n",
       "[   0.0158]]))"
      ]
     },
     "metadata": {},
     "output_type": "display_data"
    },
    {
     "data": {
      "text/latex": [
       "$\\displaystyle \\left[\\begin{matrix}x_{8}\\\\y_{8}\\\\z_{8}\\end{matrix}\\right] = \\left[\\begin{matrix}-1.567 \\cdot 10^{-5}\\\\0.003973\\\\0.0158\\end{matrix}\\right]$"
      ],
      "text/plain": [
       "Eq(Matrix([\n",
       "[x_8],\n",
       "[y_8],\n",
       "[z_8]]), Matrix([\n",
       "[-1.567e-5],\n",
       "[ 0.003973],\n",
       "[   0.0158]]))"
      ]
     },
     "metadata": {},
     "output_type": "display_data"
    },
    {
     "data": {
      "text/latex": [
       "$\\displaystyle f{\\left(x_{8},y_{8},z_{8} \\right)} = 3 x_{8}^{2} + 4 y_{8}^{2} + z_{8}^{2}$"
      ],
      "text/plain": [
       "Eq(f(x_8, y_8, z_8), 3*x_8**2 + 4*y_8**2 + z_8**2)"
      ]
     },
     "metadata": {},
     "output_type": "display_data"
    },
    {
     "data": {
      "text/latex": [
       "$\\displaystyle f{\\left(-1.567 \\cdot 10^{-5},0.003973,0.0158 \\right)} = 0.0003127$"
      ],
      "text/plain": [
       "Eq(f(-1.567e-5, 0.003973, 0.0158), 0.0003127)"
      ]
     },
     "metadata": {},
     "output_type": "display_data"
    },
    {
     "name": "stdout",
     "output_type": "stream",
     "text": [
      "\n",
      "Iteration - 9:\n",
      "\n"
     ]
    },
    {
     "data": {
      "text/latex": [
       "$\\displaystyle \\left[\\begin{matrix}x_{9}\\\\y_{9}\\\\z_{9}\\end{matrix}\\right] = - \\left(36 x_{8}^{2} + 64 y_{8}^{2} + 4 z_{8}^{2}\\right) \\frac{1}{216 x_{8}^{2} + 512 y_{8}^{2} + 8 z_{8}^{2}} \\left[\\begin{matrix}6 x_{8}\\\\8 y_{8}\\\\2 z_{8}\\end{matrix}\\right] + \\left[\\begin{matrix}x_{8}\\\\y_{8}\\\\z_{8}\\end{matrix}\\right]$"
      ],
      "text/plain": [
       "Eq(Matrix([\n",
       "[x_9],\n",
       "[y_9],\n",
       "[z_9]]), (-(36*x_8**2 + 64*y_8**2 + 4*z_8**2)/(216*x_8**2 + 512*y_8**2 + 8*z_8**2))*Matrix([\n",
       "[6*x_8],\n",
       "[8*y_8],\n",
       "[2*z_8]]) + Matrix([\n",
       "[x_8],\n",
       "[y_8],\n",
       "[z_8]]))"
      ]
     },
     "metadata": {},
     "output_type": "display_data"
    },
    {
     "data": {
      "text/latex": [
       "$\\displaystyle \\left[\\begin{matrix}x_{9}\\\\y_{9}\\\\z_{9}\\end{matrix}\\right] = \\left[\\begin{matrix}-1.567 \\cdot 10^{-5}\\\\0.003973\\\\0.0158\\end{matrix}\\right] + \\left[\\begin{matrix}1.873 \\cdot 10^{-5}\\\\-0.006334\\\\-0.006295\\end{matrix}\\right]$"
      ],
      "text/plain": [
       "Eq(Matrix([\n",
       "[x_9],\n",
       "[y_9],\n",
       "[z_9]]), Matrix([\n",
       "[-1.567e-5],\n",
       "[ 0.003973],\n",
       "[   0.0158]]) + Matrix([\n",
       "[ 1.873e-5],\n",
       "[-0.006334],\n",
       "[-0.006295]]))"
      ]
     },
     "metadata": {},
     "output_type": "display_data"
    },
    {
     "data": {
      "text/latex": [
       "$\\displaystyle \\left[\\begin{matrix}x_{9}\\\\y_{9}\\\\z_{9}\\end{matrix}\\right] = \\left[\\begin{matrix}3.065 \\cdot 10^{-6}\\\\-0.002361\\\\0.009501\\end{matrix}\\right]$"
      ],
      "text/plain": [
       "Eq(Matrix([\n",
       "[x_9],\n",
       "[y_9],\n",
       "[z_9]]), Matrix([\n",
       "[ 3.065e-6],\n",
       "[-0.002361],\n",
       "[ 0.009501]]))"
      ]
     },
     "metadata": {},
     "output_type": "display_data"
    },
    {
     "data": {
      "text/latex": [
       "$\\displaystyle \\left[\\begin{matrix}x_{9}\\\\y_{9}\\\\z_{9}\\end{matrix}\\right] = \\left[\\begin{matrix}3.065 \\cdot 10^{-6}\\\\-0.002361\\\\0.009501\\end{matrix}\\right]$"
      ],
      "text/plain": [
       "Eq(Matrix([\n",
       "[x_9],\n",
       "[y_9],\n",
       "[z_9]]), Matrix([\n",
       "[ 3.065e-6],\n",
       "[-0.002361],\n",
       "[ 0.009501]]))"
      ]
     },
     "metadata": {},
     "output_type": "display_data"
    },
    {
     "data": {
      "text/latex": [
       "$\\displaystyle f{\\left(x_{9},y_{9},z_{9} \\right)} = 3 x_{9}^{2} + 4 y_{9}^{2} + z_{9}^{2}$"
      ],
      "text/plain": [
       "Eq(f(x_9, y_9, z_9), 3*x_9**2 + 4*y_9**2 + z_9**2)"
      ]
     },
     "metadata": {},
     "output_type": "display_data"
    },
    {
     "data": {
      "text/latex": [
       "$\\displaystyle f{\\left(3.065 \\cdot 10^{-6},-0.002361,0.009501 \\right)} = 0.0001126$"
      ],
      "text/plain": [
       "Eq(f(3.065e-6, -0.002361, 0.009501), 0.0001126)"
      ]
     },
     "metadata": {},
     "output_type": "display_data"
    },
    {
     "name": "stdout",
     "output_type": "stream",
     "text": [
      "\n",
      "Iteration - 10:\n",
      "\n"
     ]
    },
    {
     "data": {
      "text/latex": [
       "$\\displaystyle \\left[\\begin{matrix}x_{10}\\\\y_{10}\\\\z_{10}\\end{matrix}\\right] = - \\left(36 x_{9}^{2} + 64 y_{9}^{2} + 4 z_{9}^{2}\\right) \\frac{1}{216 x_{9}^{2} + 512 y_{9}^{2} + 8 z_{9}^{2}} \\left[\\begin{matrix}6 x_{9}\\\\8 y_{9}\\\\2 z_{9}\\end{matrix}\\right] + \\left[\\begin{matrix}x_{9}\\\\y_{9}\\\\z_{9}\\end{matrix}\\right]$"
      ],
      "text/plain": [
       "Eq(Matrix([\n",
       "[x_10],\n",
       "[y_10],\n",
       "[z_10]]), (-(36*x_9**2 + 64*y_9**2 + 4*z_9**2)/(216*x_9**2 + 512*y_9**2 + 8*z_9**2))*Matrix([\n",
       "[6*x_9],\n",
       "[8*y_9],\n",
       "[2*z_9]]) + Matrix([\n",
       "[x_9],\n",
       "[y_9],\n",
       "[z_9]]))"
      ]
     },
     "metadata": {},
     "output_type": "display_data"
    },
    {
     "data": {
      "text/latex": [
       "$\\displaystyle \\left[\\begin{matrix}x_{10}\\\\y_{10}\\\\z_{10}\\end{matrix}\\right] = \\left[\\begin{matrix}-3.691 \\cdot 10^{-6}\\\\0.003791\\\\-0.003814\\end{matrix}\\right] + \\left[\\begin{matrix}3.065 \\cdot 10^{-6}\\\\-0.002361\\\\0.009501\\end{matrix}\\right]$"
      ],
      "text/plain": [
       "Eq(Matrix([\n",
       "[x_10],\n",
       "[y_10],\n",
       "[z_10]]), Matrix([\n",
       "[-3.691e-6],\n",
       "[ 0.003791],\n",
       "[-0.003814]]) + Matrix([\n",
       "[ 3.065e-6],\n",
       "[-0.002361],\n",
       "[ 0.009501]]))"
      ]
     },
     "metadata": {},
     "output_type": "display_data"
    },
    {
     "data": {
      "text/latex": [
       "$\\displaystyle \\left[\\begin{matrix}x_{10}\\\\y_{10}\\\\z_{10}\\end{matrix}\\right] = \\left[\\begin{matrix}-6.266 \\cdot 10^{-7}\\\\0.00143\\\\0.005687\\end{matrix}\\right]$"
      ],
      "text/plain": [
       "Eq(Matrix([\n",
       "[x_10],\n",
       "[y_10],\n",
       "[z_10]]), Matrix([\n",
       "[-6.266e-7],\n",
       "[  0.00143],\n",
       "[ 0.005687]]))"
      ]
     },
     "metadata": {},
     "output_type": "display_data"
    },
    {
     "data": {
      "text/latex": [
       "$\\displaystyle \\left[\\begin{matrix}x_{10}\\\\y_{10}\\\\z_{10}\\end{matrix}\\right] = \\left[\\begin{matrix}-6.266 \\cdot 10^{-7}\\\\0.00143\\\\0.005687\\end{matrix}\\right]$"
      ],
      "text/plain": [
       "Eq(Matrix([\n",
       "[x_10],\n",
       "[y_10],\n",
       "[z_10]]), Matrix([\n",
       "[-6.266e-7],\n",
       "[  0.00143],\n",
       "[ 0.005687]]))"
      ]
     },
     "metadata": {},
     "output_type": "display_data"
    },
    {
     "data": {
      "text/latex": [
       "$\\displaystyle f{\\left(x_{10},y_{10},z_{10} \\right)} = 3 x_{10}^{2} + 4 y_{10}^{2} + z_{10}^{2}$"
      ],
      "text/plain": [
       "Eq(f(x_10, y_10, z_10), 3*x_10**2 + 4*y_10**2 + z_10**2)"
      ]
     },
     "metadata": {},
     "output_type": "display_data"
    },
    {
     "data": {
      "text/latex": [
       "$\\displaystyle f{\\left(-6.266 \\cdot 10^{-7},0.00143,0.005687 \\right)} = 4.052 \\cdot 10^{-5}$"
      ],
      "text/plain": [
       "Eq(f(-6.266e-7, 0.00143, 0.005687), 4.052e-5)"
      ]
     },
     "metadata": {},
     "output_type": "display_data"
    }
   ],
   "source": [
    "steepest_descent(str_expr='3*x**2 + 4*y**2 + z**2', str_symbols= 'x y z', x_init=[1,3,1], \n",
    "                 tau=None, n_iter=10, rounding_digit = 4)"
   ]
  },
  {
   "cell_type": "code",
   "execution_count": null,
   "id": "1578853c",
   "metadata": {},
   "outputs": [],
   "source": []
  }
 ],
 "metadata": {
  "kernelspec": {
   "display_name": "Python 3 (ipykernel)",
   "language": "python",
   "name": "python3"
  },
  "language_info": {
   "codemirror_mode": {
    "name": "ipython",
    "version": 3
   },
   "file_extension": ".py",
   "mimetype": "text/x-python",
   "name": "python",
   "nbconvert_exporter": "python",
   "pygments_lexer": "ipython3",
   "version": "3.7.6"
  }
 },
 "nbformat": 4,
 "nbformat_minor": 5
}
